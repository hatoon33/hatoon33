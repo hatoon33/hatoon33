{
 "cells": [
  {
   "cell_type": "code",
   "execution_count": 1,
   "id": "fffe0914",
   "metadata": {},
   "outputs": [
    {
     "name": "stdout",
     "output_type": "stream",
     "text": [
      "my naim is hutoon\n"
     ]
    }
   ],
   "source": [
    "print(\"my naim is hutoon\")"
   ]
  },
  {
   "cell_type": "code",
   "execution_count": 2,
   "id": "ca853885",
   "metadata": {},
   "outputs": [
    {
     "data": {
      "text/plain": [
       "2.0"
      ]
     },
     "execution_count": 2,
     "metadata": {},
     "output_type": "execute_result"
    }
   ],
   "source": [
    "6/3"
   ]
  },
  {
   "cell_type": "code",
   "execution_count": 3,
   "id": "e53dd458",
   "metadata": {},
   "outputs": [
    {
     "data": {
      "text/plain": [
       "['Hutoon', 20.1, 2002]"
      ]
     },
     "execution_count": 3,
     "metadata": {},
     "output_type": "execute_result"
    }
   ],
   "source": [
    "H = [\"Hutoon\", 20.1, 2002]\n",
    "H"
   ]
  },
  {
   "cell_type": "code",
   "execution_count": 7,
   "id": "51c4ef3c",
   "metadata": {},
   "outputs": [
    {
     "name": "stdout",
     "output_type": "stream",
     "text": [
      "1423\n",
      "3\n",
      "2.4\n"
     ]
    }
   ],
   "source": [
    "tuple1 = (\"1423\",3,2.4 )\n",
    "tuple1\n",
    "print(tuple1[0])\n",
    "print(tuple1[1])\n",
    "print(tuple1[2])"
   ]
  },
  {
   "cell_type": "code",
   "execution_count": null,
   "id": "585dc497",
   "metadata": {},
   "outputs": [],
   "source": []
  }
 ],
 "metadata": {
  "kernelspec": {
   "display_name": "Python 3 (ipykernel)",
   "language": "python",
   "name": "python3"
  },
  "language_info": {
   "codemirror_mode": {
    "name": "ipython",
    "version": 3
   },
   "file_extension": ".py",
   "mimetype": "text/x-python",
   "name": "python",
   "nbconvert_exporter": "python",
   "pygments_lexer": "ipython3",
   "version": "3.9.12"
  }
 },
 "nbformat": 4,
 "nbformat_minor": 5
}
